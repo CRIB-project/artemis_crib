{
 "cells": [
  {
   "cell_type": "markdown",
   "metadata": {},
   "source": [
    "# import"
   ]
  },
  {
   "cell_type": "code",
   "execution_count": 1,
   "metadata": {},
   "outputs": [],
   "source": [
    "import os\n",
    "import sys\n",
    "import re\n",
    "import numpy as np\n",
    "import matplotlib.pyplot as plt\n",
    "import glob\n",
    "import array\n",
    "import copy\n",
    "from scipy.optimize import curve_fit\n",
    "from scipy.interpolate import interp1d\n",
    "from matplotlib.gridspec import GridSpec\n",
    "from matplotlib.colors import LogNorm\n",
    "from matplotlib import rcParams"
   ]
  },
  {
   "cell_type": "code",
   "execution_count": 2,
   "metadata": {},
   "outputs": [],
   "source": [
    "import ROOT"
   ]
  },
  {
   "cell_type": "code",
   "execution_count": 3,
   "metadata": {},
   "outputs": [],
   "source": [
    "import pyMass as mass\n",
    "sys.path.insert(0, os.path.abspath(os.path.join(os.getcwd(), \"..\")))\n",
    "from pyscripts.effective_thickness import EffectiveThickness\n",
    "import constant_si26ap"
   ]
  },
  {
   "cell_type": "code",
   "execution_count": 4,
   "metadata": {},
   "outputs": [],
   "source": [
    "rcParams[\"font.family\"] = \"Liberation Serif\"\n",
    "rcParams[\"axes.labelsize\"] = 8\n",
    "rcParams[\"axes.titlesize\"] = 8\n",
    "rcParams[\"xtick.labelsize\"] = 8\n",
    "rcParams[\"ytick.labelsize\"] = 8\n",
    "rcParams[\"legend.fontsize\"] = 8"
   ]
  },
  {
   "cell_type": "code",
   "execution_count": 5,
   "metadata": {},
   "outputs": [],
   "source": [
    "tsrim_home = os.getenv(\"TSRIM_DATA_HOME\")\n",
    "if not tsrim_home:\n",
    "  raise EnvironmentError(\"Please set the TSrim environment variable!\")"
   ]
  },
  {
   "cell_type": "code",
   "execution_count": 6,
   "metadata": {},
   "outputs": [],
   "source": [
    "ROOT.gErrorIgnoreLevel = ROOT.kError"
   ]
  },
  {
   "cell_type": "code",
   "execution_count": 7,
   "metadata": {},
   "outputs": [],
   "source": [
    "do_debug = True"
   ]
  },
  {
   "cell_type": "markdown",
   "metadata": {},
   "source": [
    "# functions"
   ]
  },
  {
   "cell_type": "code",
   "execution_count": 8,
   "metadata": {},
   "outputs": [],
   "source": [
    "max_levels = 40"
   ]
  },
  {
   "cell_type": "markdown",
   "metadata": {},
   "source": [
    "### define"
   ]
  },
  {
   "cell_type": "code",
   "execution_count": 9,
   "metadata": {},
   "outputs": [],
   "source": [
    "def assign_xth(value, defined_values):\n",
    "    return np.argmin(np.abs(defined_values - value))"
   ]
  },
  {
   "cell_type": "code",
   "execution_count": 10,
   "metadata": {},
   "outputs": [],
   "source": [
    "def compute_average_histogram(file_pattern, x_edges, y_edges):\n",
    "    \"\"\"\n",
    "    指定したファイルパターンに一致する全てのファイルからデータを読み込み、\n",
    "    2次元ヒストグラムの平均を計算します。\n",
    "    また、各ヒストグラムのXプロジェクションとYプロジェクションを保存します。\n",
    "\n",
    "    Parameters:\n",
    "        file_pattern (str): 読み込むファイルのパターン（例: 'main_*.txt'）\n",
    "        x_edges (array): X軸のビンの境界値の配列\n",
    "        y_edges (array): Y軸のビンの境界値の配列\n",
    "\n",
    "    Returns:\n",
    "        hist_avg (2D array): 平均化された2次元ヒストグラム\n",
    "        x_projections (2D array): 各ヒストグラムのXプロジェクションを格納した2D配列 (shape: n_files x n_x_bins)\n",
    "        y_projections (2D array): 各ヒストグラムのYプロジェクションを格納した2D配列 (shape: n_files x n_y_bins)\n",
    "    \"\"\"\n",
    "    files = sorted(glob.glob(file_pattern))\n",
    "    n_files = len(files)\n",
    "    hist_sum = np.zeros((len(x_edges) - 1, len(y_edges) - 1))\n",
    "    x_projections = []\n",
    "    y_projections = []\n",
    "\n",
    "    for file in files:\n",
    "        data = np.loadtxt(file, delimiter=\",\", usecols=(1, 2))\n",
    "        x = data[:, 0]\n",
    "        y_org = data[:, 1]\n",
    "        y = [assign_xth(val, constant_si26ap.excited_energies) for val in y_org]\n",
    "        hist, _, _ = np.histogram2d(x, y, bins=[x_edges, y_edges])\n",
    "        hist_sum += hist\n",
    "        x_proj = hist.sum(axis=1)  # Y方向に合計してXプロジェクションを得る\n",
    "        y_proj = hist.sum(axis=0)  # X方向に合計してYプロジェクションを得る\n",
    "        x_projections.append(x_proj)\n",
    "        y_projections.append(y_proj)\n",
    "\n",
    "    hist_avg = hist_sum / n_files\n",
    "    x_projections = np.array(x_projections)\n",
    "    y_projections = np.array(y_projections)\n",
    "    return hist_avg, x_projections, y_projections"
   ]
  },
  {
   "cell_type": "code",
   "execution_count": 11,
   "metadata": {},
   "outputs": [],
   "source": [
    "def plot_histograms(\n",
    "    diff_hist, x_edges, y_edges, x_proj_mean, x_proj_std, y_proj_mean, y_proj_std\n",
    "):\n",
    "    \"\"\"\n",
    "    差し引きした2次元ヒストグラムと、そのX・Yプロジェクションを描画します。\n",
    "    プロジェクションには平均値と標準偏差を用います。\n",
    "\n",
    "    Parameters:\n",
    "        diff_hist (2D array): 差し引きした2次元ヒストグラム\n",
    "        x_edges (array): X軸のビンの境界値の配列\n",
    "        y_edges (array): Y軸のビンの境界値の配列\n",
    "        x_proj_mean (array): Xプロジェクションの平均値\n",
    "        x_proj_std (array): Xプロジェクションの標準偏差\n",
    "        y_proj_mean (array): Yプロジェクションの平均値\n",
    "        y_proj_std (array): Yプロジェクションの標準偏差\n",
    "    \"\"\"\n",
    "    # ビンの中心を計算\n",
    "    x_bin_centers = (x_edges[:-1] + x_edges[1:]) / 2\n",
    "    y_bin_centers = (y_edges[:-1] + y_edges[1:]) / 2\n",
    "\n",
    "    # プロットの設定\n",
    "    yield_fig_size = 3.5 # 8\n",
    "    fig = plt.figure(figsize=(yield_fig_size, yield_fig_size))\n",
    "    gs = GridSpec(\n",
    "        2, 2, width_ratios=[4, 1], height_ratios=[1, 4], hspace=0.05, wspace=0.05\n",
    "    )\n",
    "\n",
    "    ax_main = fig.add_subplot(gs[1, 0])\n",
    "    ax_xproj = fig.add_subplot(gs[0, 0], sharex=ax_main)\n",
    "    ax_yproj = fig.add_subplot(gs[1, 1], sharey=ax_main)\n",
    "\n",
    "    # 2次元ヒストグラムを描画\n",
    "    X, Y = np.meshgrid(x_edges, y_edges)\n",
    "    pcm = ax_main.pcolormesh(\n",
    "        X, Y, diff_hist.T, shading=\"flat\", cmap=\"jet\", norm=LogNorm()\n",
    "    )\n",
    "    pcm.set_rasterized(True)\n",
    "    ax_main.tick_params(axis=\"both\", which=\"both\", direction=\"in\", length=3, width=1, top=True, right=True)\n",
    "    ax_main.set_xticks(x_edges, minor=True)\n",
    "    #ax_main.set_yticks(y_edges, minor=True)\n",
    "    ax_main.tick_params(axis=\"both\", which=\"minor\", direction=\"in\", length=2, width=0.5, top=True, right=True)\n",
    "\n",
    "    # カラーバーをax_main内の左上に配置\n",
    "    cax = ax_main.inset_axes([0.15, 0.55, 0.03, 0.4], transform=ax_main.transAxes)\n",
    "    cbar = fig.colorbar(pcm, cax=cax, orientation=\"vertical\")\n",
    "    cbar.ax.tick_params(labelsize=8)\n",
    "    cax.yaxis.set_ticks_position(\"left\")\n",
    "    cax.yaxis.set_label_position(\"left\")\n",
    "\n",
    "    # Xプロジェクションを描画（エラーバー付き）\n",
    "    ax_xproj.errorbar(\n",
    "        x_bin_centers,\n",
    "        x_proj_mean,\n",
    "        yerr=x_proj_std,\n",
    "        fmt=\"o\",\n",
    "        markersize=2,\n",
    "        color=\"black\",\n",
    "        ecolor=\"black\",\n",
    "        markeredgecolor='black',\n",
    "        markeredgewidth=1,\n",
    "        capsize=2,\n",
    "    )\n",
    "    ax_xproj.axhline(y=0, color=\"red\", linestyle=\"--\")\n",
    "    # ax_xproj.grid(True, which=\"both\", linestyle=\"-\", linewidth=0.5)\n",
    "    # ax_xproj.minorticks_on()\n",
    "    # ax_xproj.grid(True, which=\"minor\", linestyle=\":\", linewidth=0.3)\n",
    "    ax_xproj.set_ylabel(\"Counts\")\n",
    "    ax_xproj.tick_params(\n",
    "        axis=\"both\", which=\"both\", direction=\"in\", bottom=True, top=False, labelbottom=False\n",
    "    )\n",
    "\n",
    "    # Yプロジェクションを描画（エラーバー付き）\n",
    "    ax_yproj.errorbar(\n",
    "        y_proj_mean,\n",
    "        y_bin_centers,\n",
    "        xerr=y_proj_std,\n",
    "        fmt=\"o\",\n",
    "        markersize=2,\n",
    "        color=\"black\",\n",
    "        ecolor=\"black\",\n",
    "        markeredgecolor='black',\n",
    "        markeredgewidth=1,\n",
    "        capsize=2,\n",
    "    )\n",
    "    ax_yproj.axvline(x=0, color=\"red\", linestyle=\"--\")\n",
    "    # ax_yproj.grid(True, which=\"both\", linestyle=\"-\", linewidth=0.5)\n",
    "    # ax_yproj.minorticks_on()\n",
    "    # ax_yproj.grid(True, which=\"minor\", linestyle=\":\", linewidth=0.3)\n",
    "    ax_yproj.set_xlabel(\"Counts\")\n",
    "    ax_yproj.tick_params(\n",
    "        axis=\"both\", which=\"both\", direction=\"in\", left=True, right=False, labelleft=False\n",
    "    )\n",
    "\n",
    "    # 軸ラベルの設定\n",
    "    ax_main.set_xlabel(r\"$E_{cm}$ (MeV)\")\n",
    "    ax_main.set_ylabel(r\"Excited levels of $^{29}$P\")\n",
    "\n",
    "    plt.savefig(\n",
    "        #f\"figure/yield/yield_{max_levels}.eps\",\n",
    "        f\"figure/yield/yield.eps\",\n",
    "        format=\"eps\",\n",
    "        bbox_inches=\"tight\",\n",
    "    )\n",
    "    plt.savefig(\n",
    "        #f\"figure/yield/yield_{max_levels}.png\",\n",
    "        f\"figure/yield/yield.png\",\n",
    "        format=\"png\",\n",
    "        dpi=300,\n",
    "        bbox_inches=\"tight\",\n",
    "    )\n",
    "\n",
    "    plt.show()\n",
    "    plt.close(fig)"
   ]
  },
  {
   "cell_type": "code",
   "execution_count": 12,
   "metadata": {},
   "outputs": [],
   "source": [
    "def get_slice_tgraph(filepath, histname, x_delta, y_delta, max_sigma):\n",
    "    rootfile = ROOT.TFile.Open(filepath)\n",
    "    hist = rootfile.Get(histname)\n",
    "\n",
    "    if not hist:\n",
    "        print(f\"Histogram '{histname}' not found in the file '{filepath}'\")\n",
    "        return\n",
    "\n",
    "    x_max = hist.GetXaxis().GetXmax()\n",
    "    c = ROOT.TCanvas(\"c\", \"c\", 800, 600)\n",
    "    c.Clear()\n",
    "    hist.Draw(\"colz\")\n",
    "    c.SaveAs(f\"figure/fit/raw_{histname}.png\")\n",
    "\n",
    "    gr = ROOT.TGraph()\n",
    "    gaus = ROOT.TF1(\"gaus_fit\", \"gaus(0)\")\n",
    "    i = 0\n",
    "    for x_center in np.arange(x_delta / 2.0, x_max - x_delta / 2.0, x_max / 100.0):\n",
    "        c.Clear()\n",
    "        bin_min = hist.GetXaxis().FindBin(x_center - x_delta / 2.0)\n",
    "        bin_max = hist.GetXaxis().FindBin(x_center + x_delta / 2.0)\n",
    "        h = hist.ProjectionY(f\"h_{x_center:.2f}\", bin_min, bin_max)\n",
    "\n",
    "        entries = h.GetEntries()\n",
    "        if entries < 100:\n",
    "            # print(f\"Ecm = {x_center:.1f}, bin = ({bin_min}, {bin_max}), entries is too small: {entries}\")\n",
    "            continue\n",
    "\n",
    "        h.Fit(gaus, \"q\")\n",
    "        ndf = gaus.GetNDF()\n",
    "        if ndf == 0:\n",
    "            # print(f\"fit ndf == {ndf}\")\n",
    "            continue\n",
    "\n",
    "        spec = ROOT.TSpectrum(1, 0.8)\n",
    "        _ = spec.Search(h, 1, \"\", 0.05)\n",
    "        xpeaks = spec.GetPositionX()\n",
    "        gaus.SetRange(xpeaks[0] - y_delta / 2.0, xpeaks[0] + y_delta / 2.0)\n",
    "\n",
    "        h.Draw(\"hist\")\n",
    "        gaus.Draw(\"same\")\n",
    "        c.SaveAs(f\"figure/fit/{histname}/fit_{x_center:.2f}.png\")\n",
    "\n",
    "        chi2 = gaus.GetChisquare()\n",
    "        reduced_chi2 = chi2 / ndf\n",
    "        if reduced_chi2 > 100 or reduced_chi2 < 0.01:\n",
    "            # print(f\"chi2 is far from 1: {reduced_chi2:.6f}\")\n",
    "            continue\n",
    "\n",
    "        gr.SetPoint(i, x_center, gaus.GetParameter(2))\n",
    "        i += 1\n",
    "\n",
    "    c.Clear()\n",
    "    gr.GetYaxis().SetRangeUser(0.0, max_sigma)\n",
    "    gr.SetMarkerStyle(20)\n",
    "    gr.SetMarkerSize(1.5)\n",
    "    gr.Draw(\"ap\")\n",
    "    c.SaveAs(f\"figure/fit/{histname}.png\")\n",
    "    gr_copyed = copy.deepcopy(gr)\n",
    "\n",
    "    rootfile.Close()\n",
    "    return gr_copyed"
   ]
  },
  {
   "cell_type": "code",
   "execution_count": 13,
   "metadata": {},
   "outputs": [],
   "source": [
    "def remove_elements(arr, n):\n",
    "    if n >= len(arr) - 1:\n",
    "        # 配列が空になる場合\n",
    "        return np.array([])  # 空のnumpy配列を返す\n",
    "\n",
    "    # 配列の初めからn番目までを削除し、最後の要素を削除\n",
    "    return arr[n:-1]"
   ]
  },
  {
   "cell_type": "code",
   "execution_count": 14,
   "metadata": {},
   "outputs": [],
   "source": [
    "def create_spline(root_file_path, hist_name):\n",
    "    # ROOTファイルを開く\n",
    "    root_file = ROOT.TFile.Open(root_file_path)\n",
    "    if not root_file or root_file.IsZombie():\n",
    "        print(f\"Error opening ROOT file {root_file_path}\")\n",
    "        return None\n",
    "\n",
    "    # ヒストグラムを取得\n",
    "    hist = root_file.Get(hist_name)\n",
    "    if not hist:\n",
    "        print(f\"Histogram {hist_name} not found in {root_file_path}\")\n",
    "        root_file.Close()\n",
    "        return None\n",
    "\n",
    "    # ビンの数を取得\n",
    "    nbins = hist.GetNbinsX()\n",
    "\n",
    "    # ビンの中央値と内容を格納する配列を準備\n",
    "    x_vals = array.array(\"d\")\n",
    "    y_vals = array.array(\"d\")\n",
    "    hist_index = 1\n",
    "    for i in range(1, nbins + 1):  # ビンのインデックスは1から始まる\n",
    "        bin_center = hist.GetBinCenter(i)\n",
    "        bin_content = hist.GetBinContent(i)\n",
    "        if bin_content < 0.0001:\n",
    "            continue\n",
    "        x_vals.append(bin_center)\n",
    "        y_vals.append(bin_content)\n",
    "        hist_index += 1\n",
    "\n",
    "    # assume last bin is the same trend\n",
    "    last_xval = 2.0 * hist.GetBinCenter(hist_index - 1) - hist.GetBinCenter(hist_index - 2)\n",
    "    last_yval = 2.0 * hist.GetBinContent(hist_index - 1) - hist.GetBinContent(hist_index - 2)\n",
    "    x_vals.append(last_xval)\n",
    "    y_vals.append(last_yval)\n",
    "\n",
    "    # TSpline3オブジェクトを作成\n",
    "    spline = ROOT.TSpline3(\"spline\", x_vals, y_vals, hist_index)\n",
    "\n",
    "    # ROOTファイルを閉じる\n",
    "    root_file.Close()\n",
    "\n",
    "    return spline"
   ]
  },
  {
   "cell_type": "code",
   "execution_count": 15,
   "metadata": {},
   "outputs": [],
   "source": [
    "def evaluate_spline(spline, x_values):\n",
    "    # x_valuesがリストまたは配列であることを仮定\n",
    "    y_values = [spline.Eval(x) for x in x_values]\n",
    "    return y_values"
   ]
  },
  {
   "cell_type": "code",
   "execution_count": 16,
   "metadata": {},
   "outputs": [],
   "source": [
    "def create_effthickness_spline():\n",
    "    eff_obj = EffectiveThickness()\n",
    "    eff_obj.set_beam_parameters(14, 26)\n",
    "    eff_obj.set_target_parameters(\"he\", mass.Mass(2, 4), 2, 4, 250.0, 300.0)\n",
    "    thickness_gr = eff_obj.get_thickness_gr(1.0, 8.0, 0.5, \"/cm2\")\n",
    "    spline = ROOT.TSpline3(\"spline3\", thickness_gr)\n",
    "    return spline"
   ]
  },
  {
   "cell_type": "code",
   "execution_count": 17,
   "metadata": {},
   "outputs": [],
   "source": [
    "def evaluate_effthickness(gr, x_values):\n",
    "    y_values = [gr.Eval(x) for x in x_values]\n",
    "    return y_values"
   ]
  },
  {
   "cell_type": "code",
   "execution_count": 18,
   "metadata": {},
   "outputs": [],
   "source": [
    "def nonsmoker(x, a):\n",
    "    x_data = []\n",
    "    y_data = []\n",
    "\n",
    "    with open(\"txt/nonsmoker.txt\", \"r\") as file:\n",
    "        for line in file:\n",
    "            if line.startswith('#'):\n",
    "                continue\n",
    "\n",
    "            line = re.sub(r\"#.*\", \"\", line)\n",
    "            if line.strip() == \"\":\n",
    "                continue\n",
    "\n",
    "            parts = re.split(r\"[ ,]+\", line.strip())\n",
    "\n",
    "            try:\n",
    "                x_read = float(parts[0])\n",
    "                y_read = float(parts[1]) * 1.0e+3 * a\n",
    "                x_data.append(x_read)\n",
    "                y_data.append(y_read)\n",
    "            except ValueError:\n",
    "                continue\n",
    "\n",
    "    interp_function = interp1d(x_data, y_data, kind=\"cubic\", fill_value=\"extrapolate\")\n",
    "    return interp_function(x)"
   ]
  },
  {
   "cell_type": "markdown",
   "metadata": {},
   "source": [
    "# Process"
   ]
  },
  {
   "cell_type": "markdown",
   "metadata": {},
   "source": [
    "## yield"
   ]
  },
  {
   "cell_type": "code",
   "execution_count": 19,
   "metadata": {},
   "outputs": [
    {
     "data": {
      "image/png": "[encoded data removed]",
      "text/plain": [
       "<Figure size 350x350 with 3 Axes>"
      ]
     },
     "metadata": {},
     "output_type": "display_data"
    }
   ],
   "source": [
    "x_bins = 16\n",
    "y_bins = max_levels + 1\n",
    "x_min, x_max = 0.0, 8.0\n",
    "y_min, y_max = -0.5, max_levels + 0.5\n",
    "\n",
    "# ビンの境界を定義\n",
    "x_edges = np.linspace(x_min, x_max, x_bins + 1)\n",
    "y_edges = np.linspace(y_min, y_max, y_bins + 1)\n",
    "\n",
    "# 平均ヒストグラムとプロジェクションを計算\n",
    "main_hist_avg, main_x_projections, main_y_projections = compute_average_histogram(f'yield/{max_levels}/high_*.txt', x_edges, y_edges)\n",
    "sub_hist_avg, sub_x_projections, sub_y_projections = compute_average_histogram(f'yield/{max_levels}/bg_*.txt', x_edges, y_edges)\n",
    "\n",
    "# 差し引きしたヒストグラムを計算\n",
    "diff_hist = main_hist_avg - (sub_hist_avg * constant_si26ap.bg_factor)\n",
    "\n",
    "# Xプロジェクションの平均値と標準偏差を計算\n",
    "main_x_proj_mean = np.mean(main_x_projections, axis=0)\n",
    "main_x_proj_std = np.std(main_x_projections, axis=0)\n",
    "main_x_proj_sqrt = np.sqrt(main_x_proj_mean)\n",
    "sub_x_proj_mean = np.mean(sub_x_projections, axis=0)\n",
    "sub_x_proj_std = np.std(sub_x_projections, axis=0)\n",
    "sub_x_proj_sqrt = np.sqrt(sub_x_proj_mean)\n",
    "diff_x_proj_mean = main_x_proj_mean - (sub_x_proj_mean * constant_si26ap.bg_factor)\n",
    "diff_x_proj_std = np.sqrt(main_x_proj_std**2 + (sub_x_proj_std * constant_si26ap.bg_factor)**2)  # 差の標準偏差\n",
    "diff_x_proj_sqrt = np.sqrt(main_x_proj_sqrt**2 + (sub_x_proj_sqrt * constant_si26ap.bg_factor)**2)  # 差の標準偏差\n",
    "diff_x_proj_err = np.sqrt(diff_x_proj_std**2 + diff_x_proj_sqrt**2)  # 差の標準偏差\n",
    "\n",
    "# Yプロジェクションの平均値と標準偏差を計算\n",
    "main_y_proj_mean = np.mean(main_y_projections, axis=0)\n",
    "main_y_proj_std = np.std(main_y_projections, axis=0)\n",
    "main_y_proj_sqrt = np.sqrt(main_y_proj_mean)\n",
    "sub_y_proj_mean = np.mean(sub_y_projections, axis=0)\n",
    "sub_y_proj_std = np.std(sub_y_projections, axis=0)\n",
    "sub_y_proj_sqrt = np.sqrt(sub_y_proj_mean)\n",
    "diff_y_proj_mean = main_y_proj_mean - (sub_y_proj_mean * constant_si26ap.bg_factor)\n",
    "diff_y_proj_std = np.sqrt(main_y_proj_std**2 + (sub_y_proj_std * constant_si26ap.bg_factor)**2)\n",
    "diff_y_proj_sqrt = np.sqrt(main_y_proj_sqrt**2 + (sub_y_proj_sqrt * constant_si26ap.bg_factor)**2)\n",
    "diff_y_proj_err = np.sqrt(diff_y_proj_std**2 + diff_y_proj_sqrt**2)\n",
    "\n",
    "# ヒストグラムを描画\n",
    "plot_histograms(diff_hist, x_edges, y_edges,\n",
    "                diff_x_proj_mean, diff_x_proj_err,\n",
    "                diff_y_proj_mean, diff_y_proj_err)"
   ]
  },
  {
   "cell_type": "markdown",
   "metadata": {},
   "source": [
    "## cross section"
   ]
  },
  {
   "cell_type": "code",
   "execution_count": 20,
   "metadata": {},
   "outputs": [],
   "source": [
    "iremove = 9\n",
    "x_bin_centers = (x_edges[:-1] + x_edges[1:]) / 2\n",
    "x_bin_centers = remove_elements(x_bin_centers, iremove)"
   ]
  },
  {
   "cell_type": "markdown",
   "metadata": {},
   "source": [
    "### solid angle"
   ]
  },
  {
   "cell_type": "code",
   "execution_count": 21,
   "metadata": {},
   "outputs": [
    {
     "data": {
      "image/png": "[encoded data removed]",
      "text/plain": [
       "<Figure size 500x300 with 1 Axes>"
      ]
     },
     "metadata": {},
     "output_type": "display_data"
    }
   ],
   "source": [
    "solid_angle_root_path = \"/home/okawa/art_analysis/develop/develop/rootfile/solid/si26.hist.root\"\n",
    "solid_spline = create_spline(solid_angle_root_path, \"Ecm\")\n",
    "solid_array = evaluate_spline(solid_spline, x_bin_centers)\n",
    "solid_array = np.array(solid_array)\n",
    "\n",
    "if solid_spline and do_debug:\n",
    "    # ヒストグラムの範囲を取得\n",
    "    x_min = solid_spline.GetXmin()\n",
    "    x_max = solid_spline.GetXmax()\n",
    "\n",
    "    # プロットするxの範囲を定義\n",
    "    num_points = 1000\n",
    "    x_values = np.linspace(x_min, x_max, num_points)\n",
    "\n",
    "    # 補間値を計算\n",
    "    y_values = evaluate_spline(solid_spline, x_values)\n",
    "\n",
    "    # matplotlibでプロット\n",
    "    plt.figure(figsize=(5, 3))\n",
    "    plt.plot(x_values, y_values, label=\"Solid Angle\")\n",
    "    plt.xlim(2.0, 7.5)  # x軸の範囲を0から5に設定\n",
    "    plt.xlabel(\"Ecm\")\n",
    "    plt.ylabel(\"Solid Angle (sr)\")\n",
    "    plt.legend()\n",
    "    plt.grid(True)\n",
    "    plt.show()"
   ]
  },
  {
   "cell_type": "markdown",
   "metadata": {},
   "source": [
    "### effective thickenss"
   ]
  },
  {
   "cell_type": "code",
   "execution_count": 22,
   "metadata": {},
   "outputs": [
    {
     "name": "stdout",
     "output_type": "stream",
     "text": [
      "calculate effective thickness unit: /cm2\n"
     ]
    },
    {
     "data": {
      "image/png": "[encoded data removed]",
      "text/plain": [
       "<Figure size 500x300 with 1 Axes>"
      ]
     },
     "metadata": {},
     "output_type": "display_data"
    }
   ],
   "source": [
    "eff_spline = create_effthickness_spline()\n",
    "eff_array = evaluate_effthickness(eff_spline, x_bin_centers)\n",
    "eff_array = np.array(eff_array)\n",
    "\n",
    "if eff_spline and do_debug:\n",
    "    # ヒストグラムの範囲を取得\n",
    "    x_min = 1.0\n",
    "    x_max = 8.0\n",
    "\n",
    "    # プロットするxの範囲を定義\n",
    "    num_points = 1000\n",
    "    x_values = np.linspace(x_min, x_max, num_points)\n",
    "\n",
    "    # 補間値を計算\n",
    "    y_values = evaluate_effthickness(eff_spline, x_values)\n",
    "\n",
    "    # matplotlibでプロット\n",
    "    plt.figure(figsize=(5, 3))\n",
    "    plt.plot(x_values, y_values, label=\"Eff Thickness\")\n",
    "    plt.xlim(2.0, 7.5)  # x軸の範囲を0から5に設定\n",
    "    plt.xlabel(\"Ecm\")\n",
    "    plt.ylabel(\"Effective Thickness (/cm2)\")\n",
    "    plt.legend()\n",
    "    plt.grid(True)"
   ]
  },
  {
   "cell_type": "markdown",
   "metadata": {},
   "source": [
    "### get syserror object"
   ]
  },
  {
   "cell_type": "code",
   "execution_count": 23,
   "metadata": {},
   "outputs": [],
   "source": [
    "syserror_rootpath = \"hist/syserror/syserror.root\"\n",
    "ecm_syserr_gr = get_slice_tgraph(syserror_rootpath, \"Ecm\", 0.5, 1.0, 1.0)\n",
    "position_syserr_gr = get_slice_tgraph(syserror_rootpath, \"Position\", 30.0, 50.0, 50.0)"
   ]
  },
  {
   "cell_type": "code",
   "execution_count": 24,
   "metadata": {},
   "outputs": [
    {
     "name": "stdout",
     "output_type": "stream",
     "text": [
      "0.25: 0.8518603265992531\n",
      "0.75: 0.6959139720303528\n",
      "1.25: 0.5399676174614525\n",
      "1.75: 0.3840212628925521\n",
      "2.25: 0.3106450403840907\n",
      "2.75: 0.3027276903025209\n",
      "3.25: 0.3063070039585142\n",
      "3.75: 0.29961696067867916\n",
      "4.25: 0.2855377061783317\n",
      "4.75: 0.2593590079715275\n",
      "5.25: 0.23691880250641795\n",
      "5.75: 0.21564066175507987\n",
      "6.25: 0.1980220918554955\n",
      "6.75: 0.18311679515694212\n",
      "7.25: 0.16654348104181596\n",
      "7.75: 0.14922353571234878\n"
     ]
    }
   ],
   "source": [
    "test_x_bins = 16\n",
    "test_x_min, x_max = 0.0, 8.0\n",
    "test_x_edges = np.linspace(x_min, x_max, x_bins + 1)\n",
    "test_x_bin_centers = (x_edges[:-1] + x_edges[1:]) / 2\n",
    "for ecm in test_x_bin_centers:\n",
    "    ecm_sigma = abs(ecm_syserr_gr.Eval(ecm))\n",
    "    print(f\"{ecm}: {ecm_sigma}\")"
   ]
  },
  {
   "cell_type": "code",
   "execution_count": 25,
   "metadata": {},
   "outputs": [
    {
     "name": "stdout",
     "output_type": "stream",
     "text": [
      "4.75, 0.26, 0.38, 0.04, 2.31e+19, 3.02e+17\n",
      "5.25, 0.24, 0.31, 0.03, 2.37e+19, 2.93e+17\n",
      "5.75, 0.22, 0.25, 0.02, 2.43e+19, 2.80e+17\n",
      "6.25, 0.20, 0.20, 0.02, 2.50e+19, 2.66e+17\n",
      "6.75, 0.18, 0.16, 0.01, 2.57e+19, 2.52e+17\n",
      "7.25, 0.17, 0.13, 0.01, 2.63e+19, 2.34e+17\n"
     ]
    }
   ],
   "source": [
    "ecm_err_array = []\n",
    "solid_err_array = []\n",
    "eff_err_array = []\n",
    "\n",
    "for i, ecm in enumerate(x_bin_centers):\n",
    "    ecm_sigma = abs(ecm_syserr_gr.Eval(ecm))\n",
    "    ecm_err_array.append(ecm_sigma)\n",
    "    solid_sigma = abs(ecm_sigma * solid_spline.Derivative(ecm))\n",
    "    solid_err_array.append(solid_sigma)\n",
    "    eff_sigma = abs(ecm_sigma * eff_spline.Derivative(ecm))\n",
    "    eff_err_array.append(eff_sigma)\n",
    "\n",
    "    if do_debug:\n",
    "        print(f\"{ecm:.2f}, {ecm_sigma:.2f}, {solid_array[i]:.2f}, {solid_sigma:.2f}, {eff_array[i]:.2e}, {eff_sigma:.2e}\")\n",
    "\n",
    "ecm_err_array = np.array(ecm_err_array)\n",
    "solid_err_array = np.array(solid_err_array)\n",
    "eff_err_array = np.array(eff_err_array)"
   ]
  },
  {
   "cell_type": "markdown",
   "metadata": {},
   "source": [
    "### yield and error"
   ]
  },
  {
   "cell_type": "code",
   "execution_count": 26,
   "metadata": {},
   "outputs": [
    {
     "name": "stdout",
     "output_type": "stream",
     "text": [
      "381.64506000000006\n"
     ]
    }
   ],
   "source": [
    "phys_yield_array = main_x_proj_mean\n",
    "phys_yield_array = remove_elements(phys_yield_array, iremove)\n",
    "phys_yield_stat_array = np.sqrt(phys_yield_array)\n",
    "phys_yield_modelsys_array = main_x_proj_std\n",
    "phys_yield_modelsys_array = remove_elements(phys_yield_modelsys_array, iremove)\n",
    "\n",
    "bg_yield_array = sub_x_proj_mean\n",
    "bg_yield_array = remove_elements(bg_yield_array, iremove)\n",
    "bg_yield_stat_array = np.sqrt(bg_yield_array)\n",
    "bg_yield_modelsys_array = sub_x_proj_std\n",
    "bg_yield_modelsys_array = remove_elements(bg_yield_modelsys_array, iremove)\n",
    "\n",
    "subtracted_yield_array = phys_yield_array - (bg_yield_array * constant_si26ap.bg_factor)\n",
    "print(np.sum(subtracted_yield_array))\n",
    "subtracted_yield_stat_array = np.sqrt(phys_yield_stat_array**2 + (bg_yield_stat_array * constant_si26ap.bg_factor)**2)\n",
    "subtracted_yield_modelsys_array = np.sqrt(phys_yield_modelsys_array**2 + (bg_yield_modelsys_array * constant_si26ap.bg_factor)**2)"
   ]
  },
  {
   "cell_type": "markdown",
   "metadata": {},
   "source": [
    "### cross section\n",
    "\n",
    "formula\n",
    "\n",
    "```math\n",
    "\\sigma_{exp} = \\frac{Y_{sub}(E)}{N_{beam}\\cdot n_{eff}(E)\\cdot \\Delta\\Omega (E) / 4\\pi}\n",
    "```\n",
    "\n",
    "error, treat all errors are independent\n",
    "\n",
    "```math\n",
    "\\begin{align*}\n",
    "d\\sigma_{exp} &= d\\sigma_{Y} + d\\sigma_{N} + d\\sigma_{n} + d\\sigma_{\\Delta\\Omega} \\\\\n",
    "&= \\sigma_{exp}\\sqrt{\\left(\\frac{dY}{Y}\\right)^2 + \\left(\\frac{dN}{N}\\right)^2 + \\left(\\frac{dn}{n}\\right)^2 + \\left(\\frac{d\\Delta\\Omega}{\\Delta\\Omega}\\right)^2} \\\\\n",
    "&= \\sigma_{exp}\\sqrt{\\left(\\frac{dY}{Y}\\right)^2 + \\left(\\frac{\\sqrt{N}}{N}\\right)^2 + \\left(\\frac{1}{n}\\frac{dn}{dE}dE\\right)^2 + \\left(\\frac{1}{\\Omega}\\frac{d\\Delta\\Omega}{dE}dE\\right)^2}\n",
    "\\end{align*}\n",
    "```\n",
    "\n",
    "```math\n",
    "dY = \\sqrt{dY_{model}^2 + dY_{stat}^2}\n",
    "```"
   ]
  },
  {
   "cell_type": "code",
   "execution_count": 27,
   "metadata": {},
   "outputs": [],
   "source": [
    "cs_array = subtracted_yield_array / (solid_array * eff_array)\n",
    "cs_array = (4.0 * np.pi * 1.0e+3 *constant_si26ap.cm2tobarn / constant_si26ap.beam_num) * cs_array"
   ]
  },
  {
   "cell_type": "code",
   "execution_count": 28,
   "metadata": {},
   "outputs": [],
   "source": [
    "cs_modelerr_array = cs_array * subtracted_yield_modelsys_array / subtracted_yield_array\n",
    "cs_staterr_array = cs_array * subtracted_yield_stat_array / subtracted_yield_array\n",
    "cs_Nerr_array = cs_array * np.sqrt(constant_si26ap.beam_num) / constant_si26ap.beam_num\n",
    "cs_thickerr_array = cs_array * eff_err_array / eff_array\n",
    "cs_soliderr_array = cs_array * solid_err_array / solid_array\n",
    "\n",
    "cs_total_err_array = np.sqrt(cs_modelerr_array**2 + cs_staterr_array**2 + cs_Nerr_array**2 + cs_thickerr_array**2 + cs_soliderr_array**2)"
   ]
  },
  {
   "cell_type": "code",
   "execution_count": 29,
   "metadata": {},
   "outputs": [
    {
     "name": "stdout",
     "output_type": "stream",
     "text": [
      "   e     de       cs    d_cs   dYmod  dYstat      dN     dn  dOmeg  dOthe\n",
      "4.75, 0.259,   7.416,  9.990,  6.832,  7.241, 0.0001, 0.097, 0.826, 0.832\n",
      "5.25, 0.237,  19.019, 17.198, 11.620, 12.511, 0.0003, 0.236, 2.039, 2.053\n",
      "5.75, 0.216,  39.281, 26.163, 17.448, 19.142, 0.0007, 0.452, 3.666, 3.694\n",
      "6.25, 0.198,  71.141, 34.589, 22.184, 25.775, 0.0013, 0.757, 6.272, 6.318\n",
      "6.75, 0.183,  79.805, 46.014, 29.008, 35.250, 0.0014, 0.785, 5.717, 5.770\n",
      "7.25, 0.167, 110.633, 45.771, 28.889, 35.001, 0.0020, 0.984, 5.863, 5.945\n"
     ]
    }
   ],
   "source": [
    "print(\"   e     de       cs    d_cs   dYmod  dYstat      dN     dn  dOmeg  dOthe\")\n",
    "for i, ecm in enumerate(x_bin_centers):\n",
    "    result = (\n",
    "        f\"{ecm:3.2f}, {ecm_err_array[i]:4.3f}, {cs_array[i]:7.3f}, \"\n",
    "        f\"{cs_total_err_array[i]:6.3f}, \"\n",
    "        f\"{cs_modelerr_array[i]:6.3f}, {cs_staterr_array[i]:6.3f}, \"\n",
    "        f\"{cs_Nerr_array[i]:6.4f}, {cs_thickerr_array[i]:5.3f}, \"\n",
    "        f\"{cs_soliderr_array[i]:5.3f}, \"\n",
    "        f\"{np.sqrt(cs_Nerr_array[i]**2 + cs_thickerr_array[i]**2 + cs_soliderr_array[i]**2):5.3f}\"\n",
    "    )\n",
    "    print(result)"
   ]
  },
  {
   "cell_type": "code",
   "execution_count": 30,
   "metadata": {},
   "outputs": [
    {
     "name": "stdout",
     "output_type": "stream",
     "text": [
      "best fit: 0.14107\n",
      "68% error: +/- 0.03611, 0.10496 -- 0.17718\n",
      "99% error: +/- 0.09316, 0.04791 -- 0.23424\n"
     ]
    }
   ],
   "source": [
    "popt, pcov = curve_fit(\n",
    "    nonsmoker, x_bin_centers, cs_array, sigma=cs_total_err_array, absolute_sigma=True\n",
    ")\n",
    "\n",
    "a_fit = popt[0]\n",
    "a_err_68 = np.sqrt(pcov[0, 0])\n",
    "a_err_99 = 2.58 * a_err_68\n",
    "\n",
    "# 結果を出力\n",
    "print(f\"best fit: {a_fit:.5f}\")\n",
    "print(f\"68% error: +/- {a_err_68:.5f}, {a_fit - a_err_68:.5f} -- {a_fit + a_err_68:.5f}\")\n",
    "print(f\"99% error: +/- {a_err_99:.5f}, {a_fit - a_err_99:.5f} -- {a_fit + a_err_99:.5f}\")"
   ]
  },
  {
   "cell_type": "code",
   "execution_count": 31,
   "metadata": {},
   "outputs": [],
   "source": [
    "with open(f\"txt/present_{max_levels}.txt\", \"w\") as f:\n",
    "    f.write(f\"# best fit {a_fit:.5f}\\n\")\n",
    "    f.write(\n",
    "        f\"# 68% error: +/- {a_err_68:.5f}, {a_fit - a_err_68:.5f} -- {a_fit + a_err_68:.5f}\\n\"\n",
    "    )\n",
    "    f.write(\n",
    "        f\"# 99% error: +/- {a_err_99:.5f}, {a_fit - a_err_99:.5f} -- {a_fit + a_err_99:.5f}\\n\"\n",
    "    )\n",
    "    for i in range(len(x_bin_centers)):\n",
    "        line = f\"{x_bin_centers[i]}, {cs_array[i]}, {ecm_err_array[i]}, {cs_total_err_array[i]}\"\n",
    "        f.write(line + \"\\n\")"
   ]
  },
  {
   "cell_type": "code",
   "execution_count": 32,
   "metadata": {},
   "outputs": [
    {
     "data": {
      "image/png": "[encoded data removed]",
      "text/plain": [
       "<Figure size 800x600 with 1 Axes>"
      ]
     },
     "metadata": {},
     "output_type": "display_data"
    }
   ],
   "source": [
    "y_normal = nonsmoker(x_bin_centers, 1.0)\n",
    "y_fit = nonsmoker(x_bin_centers, a_fit)\n",
    "\n",
    "# 68%信頼区間の上限と下限を計算\n",
    "y_upper_68 = nonsmoker(x_bin_centers, a_fit + a_err_68)\n",
    "y_lower_68 = nonsmoker(x_bin_centers, a_fit - a_err_68)\n",
    "\n",
    "# 99%信頼区間の上限と下限を計算\n",
    "y_upper_99 = nonsmoker(x_bin_centers, a_fit + a_err_99)\n",
    "y_lower_99 = nonsmoker(x_bin_centers, a_fit - a_err_99)\n",
    "\n",
    "plt.figure(figsize=(8, 6))\n",
    "plt.errorbar(\n",
    "    x_bin_centers,\n",
    "    cs_array,\n",
    "    xerr=ecm_err_array,\n",
    "    yerr=cs_total_err_array,\n",
    "    marker=\"o\",\n",
    "    color=\"black\",\n",
    "    ecolor=\"black\",\n",
    "    linestyle=\"none\",\n",
    "    elinewidth=1,\n",
    "    markersize=8,\n",
    "    capsize=3,\n",
    "    label=\"present data\",\n",
    ")\n",
    "\n",
    "plt.plot(x_bin_centers, y_normal, \"-\", label=f\"NON-SMOKER\", color=\"magenta\")\n",
    "plt.plot(x_bin_centers, y_fit, \"-\", label=f\"Best Fit: {a_fit:.3f}\", color=\"red\")\n",
    "\n",
    "# 68%信頼区間を透明な青色で描画\n",
    "plt.fill_between(\n",
    "    x_bin_centers,\n",
    "    y_lower_68,\n",
    "    y_upper_68,\n",
    "    color=\"pink\",\n",
    "    alpha=0.4,\n",
    "    label=\"68% Confidence Interval\",\n",
    ")\n",
    "\n",
    "# 99%信頼区間をピンク色で描画\n",
    "plt.fill_between(\n",
    "    x_bin_centers,\n",
    "    y_lower_99,\n",
    "    y_upper_99,\n",
    "    color=\"pink\",\n",
    "    alpha=0.2,\n",
    "    label=\"99% Confidence Interval\",\n",
    ")\n",
    "\n",
    "plt.xlim(4.0, 8.0)\n",
    "plt.ylim(1.0, 1.0e+3)\n",
    "plt.title(f\"up to {max_levels}th\")\n",
    "plt.xlabel(\"Energy in CM system (MeV)\")  # x軸のラベル\n",
    "plt.ylabel(\"Cross Section (mb)\")  # y軸のラベル\n",
    "plt.yscale(\"log\")\n",
    "plt.legend(loc=\"upper left\")\n",
    "plt.grid(True)  # グリッドの表示\n",
    "plt.savefig(\n",
    "    f\"figure/cs/cross_section_{max_levels}_2p.png\",\n",
    "    format=\"png\",\n",
    "    dpi=300,\n",
    "    bbox_inches=\"tight\",\n",
    ")\n",
    "plt.show()  # グラフの表示"
   ]
  },
  {
   "cell_type": "code",
   "execution_count": 33,
   "metadata": {},
   "outputs": [],
   "source": [
    "## NumPy配列に変換\n",
    "#array = np.array(main_x_projections)\n",
    "#\n",
    "## 2列目 (インデックス1) を取得\n",
    "#column = array[:, 13]\n",
    "#mean = np.mean(column)\n",
    "#std_dev = np.std(column)\n",
    "#plt.hist(column, bins=30, edgecolor=\"black\", color=\"blue\", alpha=0.2)\n",
    "#plt.axvline(\n",
    "#    mean, color=\"red\", linestyle=\"dashed\", linewidth=1, label=f\"Mean: {mean:.2f}\"\n",
    "#)\n",
    "#plt.axvline(\n",
    "#    mean + std_dev,\n",
    "#    color=\"green\",\n",
    "#    linestyle=\"dotted\",\n",
    "#    linewidth=1,\n",
    "#    label=f\"Std Dev: ±{std_dev:.2f}\",\n",
    "#)\n",
    "#plt.axvline(mean - std_dev, color=\"green\", linestyle=\"dotted\", linewidth=1)\n",
    "#\n",
    "## 平均値と標準偏差のテキスト表示\n",
    "#plt.text(mean+0.5, plt.ylim()[1] * 0.8, f\"mean = {mean:.2f}\\nsigma = {std_dev:.2f}\", color=\"red\")\n",
    "#\n",
    "#\n",
    "#plt.xlabel(\"Value\")\n",
    "#plt.ylabel(\"Frequency\")\n",
    "#plt.title(\"1000 samples, phys yield Ecm = 6.75\")\n",
    "#plt.savefig(\n",
    "#    f\"figure/yield/error/ecm_6.75_{max_levels}th_1000samples.png\",\n",
    "#    format=\"png\",\n",
    "#    dpi=300,\n",
    "#    bbox_inches=\"tight\",\n",
    "#)\n",
    "#plt.show()"
   ]
  }
 ],
 "metadata": {
  "kernelspec": {
   "display_name": ".venv",
   "language": "python",
   "name": "python3"
  },
  "language_info": {
   "codemirror_mode": {
    "name": "ipython",
    "version": 3
   },
   "file_extension": ".py",
   "mimetype": "text/x-python",
   "name": "python",
   "nbconvert_exporter": "python",
   "pygments_lexer": "ipython3",
   "version": "3.12.7"
  }
 },
 "nbformat": 4,
 "nbformat_minor": 2
}
